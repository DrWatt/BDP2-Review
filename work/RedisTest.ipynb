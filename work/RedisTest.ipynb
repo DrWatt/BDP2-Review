{
 "cells": [
  {
   "cell_type": "code",
   "execution_count": 2,
   "id": "8e1829b6-3aaf-45b1-a12f-5f042c7f71fb",
   "metadata": {},
   "outputs": [],
   "source": [
    "import redis"
   ]
  },
  {
   "cell_type": "code",
   "execution_count": 5,
   "id": "c9b0e2a4-ca42-49ef-98b6-a33c8d17178d",
   "metadata": {},
   "outputs": [],
   "source": [
    "r = redis.Redis(host='172.19.0.3')"
   ]
  },
  {
   "cell_type": "code",
   "execution_count": 6,
   "id": "434dfc9c-27b4-49b2-b5c0-e14d5c0fc597",
   "metadata": {},
   "outputs": [
    {
     "data": {
      "text/plain": [
       "True"
      ]
     },
     "execution_count": 6,
     "metadata": {},
     "output_type": "execute_result"
    }
   ],
   "source": [
    "r.set('temperature', 18.5)"
   ]
  },
  {
   "cell_type": "code",
   "execution_count": 7,
   "id": "b9b9dad0-bf1b-4848-87c0-82b54461ba04",
   "metadata": {},
   "outputs": [
    {
     "name": "stdout",
     "output_type": "stream",
     "text": [
      "b'18.5'\n"
     ]
    }
   ],
   "source": [
    "print(r.get('temperature'))"
   ]
  }
 ],
 "metadata": {
  "kernelspec": {
   "display_name": "Python 3 (ipykernel)",
   "language": "python",
   "name": "python3"
  },
  "language_info": {
   "codemirror_mode": {
    "name": "ipython",
    "version": 3
   },
   "file_extension": ".py",
   "mimetype": "text/x-python",
   "name": "python",
   "nbconvert_exporter": "python",
   "pygments_lexer": "ipython3",
   "version": "3.10.4"
  }
 },
 "nbformat": 4,
 "nbformat_minor": 5
}
